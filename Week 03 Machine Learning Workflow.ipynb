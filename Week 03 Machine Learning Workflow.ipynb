{
 "cells": [
  {
   "cell_type": "markdown",
   "metadata": {},
   "source": [
    "# 03 Machine Learning Workflow dengan Scikit Learn"
   ]
  },
  {
   "cell_type": "markdown",
   "metadata": {},
   "source": [
    "## Persiapan Dataset"
   ]
  },
  {
   "cell_type": "markdown",
   "metadata": {},
   "source": [
    "### Load Sample Dataset: Iris Dataset"
   ]
  },
  {
   "cell_type": "code",
   "execution_count": 1,
   "metadata": {},
   "outputs": [],
   "source": [
    "from sklearn.datasets import load_iris\n",
    "\n",
    "iris = load_iris()\n",
    "\n",
    "X = iris.data\n",
    "y = iris.target"
   ]
  },
  {
   "cell_type": "markdown",
   "metadata": {},
   "source": [
    "Code diatas merupakan proses import dan sekaligus persiapan dataset dengan menggunakan dataset yang telah disediakan oleh scikitlearn yaitu menggunakan iris dataset"
   ]
  },
  {
   "cell_type": "markdown",
   "metadata": {},
   "source": [
    "### Splitting Dataset: Training & Testing Set"
   ]
  },
  {
   "cell_type": "code",
   "execution_count": 2,
   "metadata": {},
   "outputs": [],
   "source": [
    "from sklearn.model_selection import train_test_split\n",
    "\n",
    "X_train, X_test, y_train, y_test = train_test_split(X,\n",
    "                                                    y,\n",
    "                                                    test_size=0.4,\n",
    "                                                    random_state=1)"
   ]
  },
  {
   "cell_type": "markdown",
   "metadata": {},
   "source": [
    "Code diatas merupakan proses splitting dataset yang dibagi menjadi training set dan testing set. Train test split ini akan menampilkan 4 kumpulan nilai yang harus kita tampung kedalam 4 buah variable yaitu X_train, X_test, y_train, y_test."
   ]
  },
  {
   "cell_type": "markdown",
   "metadata": {},
   "source": [
    "## Training Model"
   ]
  },
  {
   "cell_type": "markdown",
   "metadata": {},
   "source": [
    "* Pada Scikit Learn, model machine learning dibentuk dari class yang dikenal dengan istilah **estimator**\n",
    "* Setiap estimator akan mengimplementasikan dua method utama, yaitu fit() dan predict().\n",
    "* Method fit() digunakan untuk melakukan training model.\n",
    "* Method predict() digunakan untuk melakukan estimasi/prediksi dengan memanfaatkan trained model."
   ]
  },
  {
   "cell_type": "code",
   "execution_count": 3,
   "metadata": {},
   "outputs": [
    {
     "data": {
      "text/plain": [
       "KNeighborsClassifier(n_neighbors=3)"
      ]
     },
     "execution_count": 3,
     "metadata": {},
     "output_type": "execute_result"
    }
   ],
   "source": [
    "from sklearn.neighbors import KNeighborsClassifier\n",
    "\n",
    "model = KNeighborsClassifier(n_neighbors=3)\n",
    "model.fit(X_train, y_train)"
   ]
  },
  {
   "cell_type": "markdown",
   "metadata": {},
   "source": [
    "Code diatas menggunakan KNeighborsClassifier sebagai machine learning model. Parameter n_neighbors digunakan untuk proses pembentukan objek model, parameter ini dibutuhkan karena objek model yang akan dibentuk ini berasal dari KNeighborsClassifier dimana diperlukan untuk menspesifikasikan jumlah neighbors nya."
   ]
  },
  {
   "cell_type": "markdown",
   "metadata": {},
   "source": [
    "## Evaluasi Model"
   ]
  },
  {
   "cell_type": "code",
   "execution_count": 4,
   "metadata": {},
   "outputs": [
    {
     "name": "stdout",
     "output_type": "stream",
     "text": [
      "Accuracy: 0.9833333333333333\n"
     ]
    }
   ],
   "source": [
    "from sklearn.metrics import accuracy_score\n",
    "\n",
    "y_pred = model.predict(X_test)\n",
    "acc = accuracy_score(y_test, y_pred)\n",
    "print(f'Accuracy: {acc}')"
   ]
  },
  {
   "cell_type": "markdown",
   "metadata": {},
   "source": [
    "Code diatas menggunakan sccuracy sebagai metrics. setelah proses import selesai selanjutnya adalah melakukan prediksi terhadap nilai features yang ada didalam testing dataset."
   ]
  },
  {
   "cell_type": "markdown",
   "metadata": {},
   "source": [
    "## Pemanfaatan Trained Model"
   ]
  },
  {
   "cell_type": "code",
   "execution_count": 5,
   "metadata": {
    "scrolled": false
   },
   "outputs": [
    {
     "data": {
      "text/plain": [
       "array([1, 2])"
      ]
     },
     "execution_count": 5,
     "metadata": {},
     "output_type": "execute_result"
    }
   ],
   "source": [
    "data_baru = [[5, 5, 3, 2], \n",
    "             [2, 4, 3, 5]]\n",
    "\n",
    "preds =  model.predict(data_baru)\n",
    "preds"
   ]
  },
  {
   "cell_type": "markdown",
   "metadata": {},
   "source": [
    "Berbeda dengan testing set, pada data baru hanya memiliki sekumpulan nilai features tetapi tidak memiliki nilai target.\n",
    "Dataset terdiri dari 2 row/baris, dimana setiap baris terbagi dalam 4 nilai features.\n",
    "Hasil prediksi nya didapatkan [1, 2] artinya nilai yang pertama dengan nilai features [5, 5, 3, 2] ini diprediksi memiliki nilai target 1 sedangkan untuk nilai yang kedua dengan nilai features [2, 4, 3, 5] ini diprediksi untuk memiliki nilai target 2."
   ]
  },
  {
   "cell_type": "code",
   "execution_count": 6,
   "metadata": {},
   "outputs": [
    {
     "name": "stdout",
     "output_type": "stream",
     "text": [
      "Hasil Prediksi: ['versicolor', 'virginica']\n"
     ]
    }
   ],
   "source": [
    "pred_species = [iris.target_names[p] for p in preds] \n",
    "print(f'Hasil Prediksi: {pred_species}')"
   ]
  },
  {
   "cell_type": "markdown",
   "metadata": {},
   "source": [
    "Code diatas bisa dikatakan bahwa untuk data yang pertama dengan nilai features [5, 5, 3, 2] ini diprediksi masuk kedalam klasifikasi spesies iris *versicolor* sedangkan untuk daya yang kedua dengan nilai features [2, 4, 3, 5] ini diprediksi masuk kedalam kategori spesies iris *virginica*."
   ]
  },
  {
   "cell_type": "markdown",
   "metadata": {},
   "source": [
    "## Dump & Load Trained Model"
   ]
  },
  {
   "cell_type": "markdown",
   "metadata": {},
   "source": [
    "### Dumping Model Machine Learning menjadi file joblib"
   ]
  },
  {
   "cell_type": "code",
   "execution_count": 7,
   "metadata": {},
   "outputs": [
    {
     "data": {
      "text/plain": [
       "['iris_classifier_knn.joblib']"
      ]
     },
     "execution_count": 7,
     "metadata": {},
     "output_type": "execute_result"
    }
   ],
   "source": [
    "import joblib\n",
    "\n",
    "joblib.dump(model, 'iris_classifier_knn.joblib')"
   ]
  },
  {
   "cell_type": "markdown",
   "metadata": {},
   "source": [
    "Train model perlu kita export/dump sebagai suatu file model menggunakan joblib. Joblib.dump membutuhkan 2 parameter yaitu trained model yang perlu kita dumb dan nama file joblib."
   ]
  },
  {
   "cell_type": "markdown",
   "metadata": {},
   "source": [
    "### Loading Model Machine Learning dari file joblib"
   ]
  },
  {
   "cell_type": "code",
   "execution_count": 8,
   "metadata": {},
   "outputs": [],
   "source": [
    "production_model = joblib.load('iris_classifier_knn.joblib')"
   ]
  },
  {
   "cell_type": "markdown",
   "metadata": {},
   "source": [
    "Maching learning model ditampung dalam nilai production_model. Lalu production_model dapat digunakan untuk memprediksi data baru yang ditemui di production."
   ]
  }
 ],
 "metadata": {
  "kernelspec": {
   "display_name": "Python 3",
   "language": "python",
   "name": "python3"
  },
  "language_info": {
   "codemirror_mode": {
    "name": "ipython",
    "version": 3
   },
   "file_extension": ".py",
   "mimetype": "text/x-python",
   "name": "python",
   "nbconvert_exporter": "python",
   "pygments_lexer": "ipython3",
   "version": "3.8.5"
  }
 },
 "nbformat": 4,
 "nbformat_minor": 4
}
